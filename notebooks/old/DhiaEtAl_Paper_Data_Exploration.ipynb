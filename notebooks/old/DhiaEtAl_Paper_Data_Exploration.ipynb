{
 "cells": [
  {
   "cell_type": "markdown",
   "id": "4fd9b3e8",
   "metadata": {},
   "source": [
    "This notebook performs an exploration of the dataset from the paper __Characterizing the usage of CI tools in ML projects__ authored by Rzig et al."
   ]
  },
  {
   "cell_type": "code",
   "execution_count": 1,
   "id": "e9cf2763",
   "metadata": {},
   "outputs": [],
   "source": [
    "import pandas as pd\n",
    "import seaborn as sns\n",
    "import matplotlib.pyplot as plt"
   ]
  },
  {
   "cell_type": "markdown",
   "id": "4f910d93",
   "metadata": {},
   "source": [
    "#### Breadth Corpus from RQ1"
   ]
  },
  {
   "cell_type": "code",
   "execution_count": 2,
   "id": "2ce4a83e",
   "metadata": {},
   "outputs": [],
   "source": [
    "df_RQ1 = pd.read_csv('/Users/musfiqurrahman/Documents/PersonalItems/PhD_Stuff/Data/DhiaEtAl/Project_Set/ML/RQ1-BreadthCorpus.csv')"
   ]
  },
  {
   "cell_type": "code",
   "execution_count": 3,
   "id": "c985d41c",
   "metadata": {},
   "outputs": [
    {
     "data": {
      "text/plain": [
       "(4031, 2)"
      ]
     },
     "execution_count": 3,
     "metadata": {},
     "output_type": "execute_result"
    }
   ],
   "source": [
    "df_RQ1.shape"
   ]
  },
  {
   "cell_type": "code",
   "execution_count": 4,
   "id": "2444adfe",
   "metadata": {
    "scrolled": true
   },
   "outputs": [
    {
     "data": {
      "text/html": [
       "<div>\n",
       "<style scoped>\n",
       "    .dataframe tbody tr th:only-of-type {\n",
       "        vertical-align: middle;\n",
       "    }\n",
       "\n",
       "    .dataframe tbody tr th {\n",
       "        vertical-align: top;\n",
       "    }\n",
       "\n",
       "    .dataframe thead th {\n",
       "        text-align: right;\n",
       "    }\n",
       "</style>\n",
       "<table border=\"1\" class=\"dataframe\">\n",
       "  <thead>\n",
       "    <tr style=\"text-align: right;\">\n",
       "      <th></th>\n",
       "      <th>ProjectName</th>\n",
       "      <th>ProjectType</th>\n",
       "    </tr>\n",
       "  </thead>\n",
       "  <tbody>\n",
       "    <tr>\n",
       "      <th>0</th>\n",
       "      <td>10up/classifai</td>\n",
       "      <td>Applied</td>\n",
       "    </tr>\n",
       "    <tr>\n",
       "      <th>1</th>\n",
       "      <td>2knal/Honesty</td>\n",
       "      <td>Applied</td>\n",
       "    </tr>\n",
       "    <tr>\n",
       "      <th>2</th>\n",
       "      <td>5hirish/adam_qas</td>\n",
       "      <td>Applied</td>\n",
       "    </tr>\n",
       "    <tr>\n",
       "      <th>3</th>\n",
       "      <td>921kiyo/3d-dl</td>\n",
       "      <td>Applied</td>\n",
       "    </tr>\n",
       "    <tr>\n",
       "      <th>4</th>\n",
       "      <td>a-martyn/ISL-python</td>\n",
       "      <td>Applied</td>\n",
       "    </tr>\n",
       "  </tbody>\n",
       "</table>\n",
       "</div>"
      ],
      "text/plain": [
       "           ProjectName ProjectType\n",
       "0       10up/classifai     Applied\n",
       "1        2knal/Honesty     Applied\n",
       "2     5hirish/adam_qas     Applied\n",
       "3        921kiyo/3d-dl     Applied\n",
       "4  a-martyn/ISL-python     Applied"
      ]
     },
     "execution_count": 4,
     "metadata": {},
     "output_type": "execute_result"
    }
   ],
   "source": [
    "df_RQ1.head()"
   ]
  },
  {
   "cell_type": "code",
   "execution_count": 5,
   "id": "890ce0ee",
   "metadata": {
    "scrolled": false
   },
   "outputs": [
    {
     "data": {
      "image/png": "[encoded data removed]",
      "text/plain": [
       "<Figure size 640x480 with 1 Axes>"
      ]
     },
     "metadata": {},
     "output_type": "display_data"
    }
   ],
   "source": [
    "sns.set_context('talk', font_scale=.5)\n",
    "\n",
    "# Count plot helps us visualize the number of elements per category\n",
    "sns.countplot(data=df_RQ1, x='ProjectType');"
   ]
  },
  {
   "cell_type": "code",
   "execution_count": 6,
   "id": "11bbe0d4",
   "metadata": {
    "scrolled": true
   },
   "outputs": [
    {
     "data": {
      "text/plain": [
       "Applied    2915\n",
       "Tool       1116\n",
       "Name: ProjectType, dtype: int64"
      ]
     },
     "execution_count": 6,
     "metadata": {},
     "output_type": "execute_result"
    }
   ],
   "source": [
    "df_RQ1['ProjectType'].value_counts()"
   ]
  },
  {
   "cell_type": "markdown",
   "id": "391ed1ba",
   "metadata": {},
   "source": [
    "### Depth Corpus from RQ2"
   ]
  },
  {
   "cell_type": "code",
   "execution_count": 7,
   "id": "6fc42b0a",
   "metadata": {},
   "outputs": [],
   "source": [
    "df_RQ2 = pd.read_csv('/Users/musfiqurrahman/Documents/PersonalItems/PhD_Stuff/Data/DhiaEtAl/Project_Set/ML/RQ2-DepthCorpusWithCurrentAdoption.csv')"
   ]
  },
  {
   "cell_type": "code",
   "execution_count": 8,
   "id": "8ef40a7c",
   "metadata": {},
   "outputs": [
    {
     "data": {
      "text/plain": [
       "(378, 3)"
      ]
     },
     "execution_count": 8,
     "metadata": {},
     "output_type": "execute_result"
    }
   ],
   "source": [
    "df_RQ2.shape"
   ]
  },
  {
   "cell_type": "code",
   "execution_count": 9,
   "id": "73475bdf",
   "metadata": {},
   "outputs": [
    {
     "data": {
      "text/html": [
       "<div>\n",
       "<style scoped>\n",
       "    .dataframe tbody tr th:only-of-type {\n",
       "        vertical-align: middle;\n",
       "    }\n",
       "\n",
       "    .dataframe tbody tr th {\n",
       "        vertical-align: top;\n",
       "    }\n",
       "\n",
       "    .dataframe thead th {\n",
       "        text-align: right;\n",
       "    }\n",
       "</style>\n",
       "<table border=\"1\" class=\"dataframe\">\n",
       "  <thead>\n",
       "    <tr style=\"text-align: right;\">\n",
       "      <th></th>\n",
       "      <th>RepoName</th>\n",
       "      <th>RepoType</th>\n",
       "      <th>GitHubURL</th>\n",
       "    </tr>\n",
       "  </thead>\n",
       "  <tbody>\n",
       "    <tr>\n",
       "      <th>0</th>\n",
       "      <td>duxuhao/Feature-Selection</td>\n",
       "      <td>Applied</td>\n",
       "      <td>https://github.com/duxuhao/Feature-Selection.git</td>\n",
       "    </tr>\n",
       "    <tr>\n",
       "      <th>1</th>\n",
       "      <td>kakaobrain/torchgpipe</td>\n",
       "      <td>Applied</td>\n",
       "      <td>https://github.com/kakaobrain/torchgpipe.git</td>\n",
       "    </tr>\n",
       "    <tr>\n",
       "      <th>2</th>\n",
       "      <td>ternaus/robot-surgery-segmentation</td>\n",
       "      <td>Applied</td>\n",
       "      <td>https://github.com/ternaus/robot-surgery-segme...</td>\n",
       "    </tr>\n",
       "    <tr>\n",
       "      <th>3</th>\n",
       "      <td>knorth55/chainer-dense-fusion</td>\n",
       "      <td>Applied</td>\n",
       "      <td>https://github.com/knorth55/chainer-dense-fusi...</td>\n",
       "    </tr>\n",
       "    <tr>\n",
       "      <th>4</th>\n",
       "      <td>scikit-learn-contrib/mimic</td>\n",
       "      <td>Tool</td>\n",
       "      <td>https://github.com/scikit-learn-contrib/mimic.git</td>\n",
       "    </tr>\n",
       "  </tbody>\n",
       "</table>\n",
       "</div>"
      ],
      "text/plain": [
       "                             RepoName RepoType  \\\n",
       "0           duxuhao/Feature-Selection  Applied   \n",
       "1               kakaobrain/torchgpipe  Applied   \n",
       "2  ternaus/robot-surgery-segmentation  Applied   \n",
       "3       knorth55/chainer-dense-fusion  Applied   \n",
       "4          scikit-learn-contrib/mimic     Tool   \n",
       "\n",
       "                                           GitHubURL  \n",
       "0   https://github.com/duxuhao/Feature-Selection.git  \n",
       "1       https://github.com/kakaobrain/torchgpipe.git  \n",
       "2  https://github.com/ternaus/robot-surgery-segme...  \n",
       "3  https://github.com/knorth55/chainer-dense-fusi...  \n",
       "4  https://github.com/scikit-learn-contrib/mimic.git  "
      ]
     },
     "execution_count": 9,
     "metadata": {},
     "output_type": "execute_result"
    }
   ],
   "source": [
    "df_RQ2.head()"
   ]
  },
  {
   "cell_type": "code",
   "execution_count": null,
   "id": "859e6dd3",
   "metadata": {},
   "outputs": [],
   "source": []
  },
  {
   "cell_type": "code",
   "execution_count": null,
   "id": "a0b0a5c5",
   "metadata": {},
   "outputs": [],
   "source": []
  },
  {
   "cell_type": "code",
   "execution_count": 4,
   "id": "ee9636fb",
   "metadata": {},
   "outputs": [],
   "source": [
    "df['TravisFileURL'] = [link.split('.git')[0] + \"/blob/master/.travis.yml\" for link in df['GitHubURL']]"
   ]
  },
  {
   "cell_type": "code",
   "execution_count": 5,
   "id": "1baedb8a",
   "metadata": {},
   "outputs": [],
   "source": [
    "# df[\"TravisFileURL\"].tolist()"
   ]
  },
  {
   "cell_type": "code",
   "execution_count": 6,
   "id": "dfdbe287",
   "metadata": {},
   "outputs": [],
   "source": [
    "df.to_csv(\"yml_files_link.csv\", index=False)"
   ]
  },
  {
   "cell_type": "code",
   "execution_count": null,
   "id": "110391db",
   "metadata": {},
   "outputs": [],
   "source": []
  },
  {
   "cell_type": "code",
   "execution_count": null,
   "id": "2d1eb92b",
   "metadata": {},
   "outputs": [],
   "source": []
  }
 ],
 "metadata": {
  "kernelspec": {
   "display_name": "travis-ci-venv",
   "language": "python",
   "name": "travis-ci-venv"
  },
  "language_info": {
   "codemirror_mode": {
    "name": "ipython",
    "version": 3
   },
   "file_extension": ".py",
   "mimetype": "text/x-python",
   "name": "python",
   "nbconvert_exporter": "python",
   "pygments_lexer": "ipython3",
   "version": "3.7.3"
  }
 },
 "nbformat": 4,
 "nbformat_minor": 5
}
