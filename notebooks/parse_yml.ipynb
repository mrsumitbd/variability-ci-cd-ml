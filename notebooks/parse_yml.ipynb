{
 "cells": [
  {
   "cell_type": "code",
   "execution_count": 1,
   "id": "f3ea98ea",
   "metadata": {},
   "outputs": [],
   "source": [
    "import yaml"
   ]
  },
  {
   "cell_type": "code",
   "execution_count": null,
   "id": "5c13b813",
   "metadata": {},
   "outputs": [],
   "source": []
  },
  {
   "cell_type": "code",
   "execution_count": 5,
   "id": "562f002b",
   "metadata": {},
   "outputs": [
    {
     "name": "stdout",
     "output_type": "stream",
     "text": [
      "fnl_syntok_.travis.yml\n",
      "{'language': 'python', 'matrix': {'include': [{'python': 3.6, 'env': 'TOXENV=py36'}, {'python': 3.5, 'env': 'TOXENV=py35'}]}, 'install': ['pip install tox'], 'script': ['tox']}\n",
      "vertexclique_orkhon_.travis.yml\n",
      "{'language': 'python', 'dist': 'xenial', 'sudo': False, 'addons': {'apt': {'sources': ['deadsnakes'], 'packages': ['libdbus-1-dev', 'musl-tools', 'fakeroot', 'python3.6-dev', 'libcurl4-openssl-dev', 'libelf-dev', 'libdw-dev', 'cmake', 'gcc', 'binutils-dev', 'libiberty-dev']}}, 'env': {'global': ['CRATE_NAME=orkhon']}, 'matrix': {'fast_finish': True, 'include': [{'env': 'TARGET=x86_64-unknown-linux-gnu', 'os': 'linux', 'rust': 'nightly', 'python': 3.6}, {'env': 'TARGET=x86_64-apple-darwin', 'os': 'osx', 'rust': 'nightly', 'language': 'generic'}]}, 'before_install': ['set -e', 'curl https://sh.rustup.rs -sSf > rustup-init.sh', 'sh rustup-init.sh --default-toolchain nightly -y -v', 'export PATH=\"$HOME/.cargo/bin:$PATH\"', 'rustup self update', 'if [ \"$TRAVIS_OS_NAME\" == \"osx\" ]; then\\n  pip uninstall numpy --yes\\n  pip3 uninstall numpy --yes\\n  sudo pip3 install numpy --upgrade --ignore-installed\\n  python3.6 -m pip install tensorflow opencv-python\\nfi\\n', 'if [ \"$TRAVIS_OS_NAME\" == \"linux\" ]; then\\n  python3.6 -m pip install numpy tensorflow opencv-python\\n  export LD_LIBRARY_PATH=/opt/pyenv/versions/3.6.7/lib:$LD_LIBRARY_PATH\\nfi\\n'], 'install': ['source ~/.cargo/env || true'], 'script': ['bash ci/script.sh'], 'after_script': 'set +e', 'before_deploy': ['sh ci/before_deploy.sh'], 'deploy': {'api_key': {'secure': 'hvfU3R+F6N2PTonJlnS7dkQULZHyDLesezMJB0GJh+goYdatcj66F1vNxlWjwZpL9ZN+fLjml9Qv0QKTci4OU33CCSdJ/xL4N6/ZND2CLziaX1OPeMlEhBJkYt8xn5HiV/eLAWovpIsQVlU5b6eDMzypar3v7NQGYsVbRuIplSE2QnWK3wbVbYfhj6leaI7RU/WlT2+z5hbk0ncO4E5oY2A/ef4Mp+k9nLmES7pnwDMhV+n8Zc8LI24vRgAlTDV/mBJcHrmYir97xhEC6e8CteuYjajD+wiKRgwiozkNzf8fZzxD+B78ucCbINpSfwfdQjJOa7gXkooc4tEbTI/nW9UvxLajXy5glVRkTGS/toS1INW83FVr3sdOrFANaayWlHVbVxWfYWAJ042UF+Q3vwXPzqlpvOTbW7K1C4V7Y8BzezOVrvHr/NKfW2h5RgSyyVjVdnH00qAnMQEMivmCbfY/w8sCiwUtD4CaHZ2Z+BDUUtO7HsejI8YoP7aGVcRrnlzBqg8J+vnvTzmUPeBoXDw3LOdjfUdjXFk82MmTwZM1lweHKpbpU5hJHAXP/QUJ+OHhRqHiplD1XP2+iuVEq7wcvslngBiUvdmyIouYj1blKsTl2OHGsjXtnm9DH5fpB5ojjXb9LuV2E4uBqvQhDpoL/1p7+7WM5/qegJsIqXg='}, 'file_glob': True, 'file': '$CRATE_NAME-$TRAVIS_TAG-$TARGET.*', True: {'condition': '$DEPLOY = never', 'tags': True}, 'provider': 'releases', 'skip_cleanup': True}, 'cache': 'cargo', 'before_cache': ['chmod -R a+r $HOME/.cargo'], 'branches': {'only': ['/^v\\\\d+\\\\.\\\\d+\\\\.\\\\d+.*$/', 'master']}, 'notifications': {'email': {'on_success': 'never'}}}\n"
     ]
    }
   ],
   "source": [
    "file_path = \"/Users/musfiqurrahman/Documents/PersonalItems/PhD_Stuff/Data/DhiaEtAl/Source_Code/TravisCIAnalyzer/Project_Data/travisPyFiles/\"\n",
    "\n",
    "from os import walk\n",
    "\n",
    "filenames = next(walk(file_path), (None, None, []))[2]\n",
    "\n",
    "for file in filenames[:2]:\n",
    "    with open(file_path + file, \"r\") as stream:\n",
    "        try:\n",
    "            print(file)\n",
    "            print(yaml.safe_load(stream))\n",
    "        except yaml.YAMLError as exc:\n",
    "            print(exc)"
   ]
  },
  {
   "cell_type": "code",
   "execution_count": null,
   "id": "d75014a0",
   "metadata": {},
   "outputs": [],
   "source": []
  }
 ],
 "metadata": {
  "kernelspec": {
   "display_name": "travis-ci-venv",
   "language": "python",
   "name": "travis-ci-venv"
  },
  "language_info": {
   "codemirror_mode": {
    "name": "ipython",
    "version": 3
   },
   "file_extension": ".py",
   "mimetype": "text/x-python",
   "name": "python",
   "nbconvert_exporter": "python",
   "pygments_lexer": "ipython3",
   "version": "3.7.3"
  }
 },
 "nbformat": 4,
 "nbformat_minor": 5
}
