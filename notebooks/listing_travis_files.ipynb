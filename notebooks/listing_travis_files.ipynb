{
 "cells": [
  {
   "cell_type": "code",
   "execution_count": 2,
   "id": "2ce4a83e",
   "metadata": {},
   "outputs": [],
   "source": [
    "import pandas as pd\n",
    "\n",
    "df = pd.read_csv('../../Data/CI_CD_RzigEtAl/Project_Sets/ML/RQ2-DepthCorpusWithCurrentAdoption.csv')"
   ]
  },
  {
   "cell_type": "code",
   "execution_count": 3,
   "id": "c985d41c",
   "metadata": {},
   "outputs": [
    {
     "data": {
      "text/html": [
       "<div>\n",
       "<style scoped>\n",
       "    .dataframe tbody tr th:only-of-type {\n",
       "        vertical-align: middle;\n",
       "    }\n",
       "\n",
       "    .dataframe tbody tr th {\n",
       "        vertical-align: top;\n",
       "    }\n",
       "\n",
       "    .dataframe thead th {\n",
       "        text-align: right;\n",
       "    }\n",
       "</style>\n",
       "<table border=\"1\" class=\"dataframe\">\n",
       "  <thead>\n",
       "    <tr style=\"text-align: right;\">\n",
       "      <th></th>\n",
       "      <th>RepoName</th>\n",
       "      <th>RepoType</th>\n",
       "      <th>GitHubURL</th>\n",
       "    </tr>\n",
       "  </thead>\n",
       "  <tbody>\n",
       "    <tr>\n",
       "      <th>0</th>\n",
       "      <td>duxuhao/Feature-Selection</td>\n",
       "      <td>Applied</td>\n",
       "      <td>https://github.com/duxuhao/Feature-Selection.git</td>\n",
       "    </tr>\n",
       "    <tr>\n",
       "      <th>1</th>\n",
       "      <td>kakaobrain/torchgpipe</td>\n",
       "      <td>Applied</td>\n",
       "      <td>https://github.com/kakaobrain/torchgpipe.git</td>\n",
       "    </tr>\n",
       "    <tr>\n",
       "      <th>2</th>\n",
       "      <td>ternaus/robot-surgery-segmentation</td>\n",
       "      <td>Applied</td>\n",
       "      <td>https://github.com/ternaus/robot-surgery-segme...</td>\n",
       "    </tr>\n",
       "    <tr>\n",
       "      <th>3</th>\n",
       "      <td>knorth55/chainer-dense-fusion</td>\n",
       "      <td>Applied</td>\n",
       "      <td>https://github.com/knorth55/chainer-dense-fusi...</td>\n",
       "    </tr>\n",
       "    <tr>\n",
       "      <th>4</th>\n",
       "      <td>scikit-learn-contrib/mimic</td>\n",
       "      <td>Tool</td>\n",
       "      <td>https://github.com/scikit-learn-contrib/mimic.git</td>\n",
       "    </tr>\n",
       "  </tbody>\n",
       "</table>\n",
       "</div>"
      ],
      "text/plain": [
       "                             RepoName RepoType  \\\n",
       "0           duxuhao/Feature-Selection  Applied   \n",
       "1               kakaobrain/torchgpipe  Applied   \n",
       "2  ternaus/robot-surgery-segmentation  Applied   \n",
       "3       knorth55/chainer-dense-fusion  Applied   \n",
       "4          scikit-learn-contrib/mimic     Tool   \n",
       "\n",
       "                                           GitHubURL  \n",
       "0   https://github.com/duxuhao/Feature-Selection.git  \n",
       "1       https://github.com/kakaobrain/torchgpipe.git  \n",
       "2  https://github.com/ternaus/robot-surgery-segme...  \n",
       "3  https://github.com/knorth55/chainer-dense-fusi...  \n",
       "4  https://github.com/scikit-learn-contrib/mimic.git  "
      ]
     },
     "execution_count": 3,
     "metadata": {},
     "output_type": "execute_result"
    }
   ],
   "source": [
    "df.head()"
   ]
  },
  {
   "cell_type": "code",
   "execution_count": 4,
   "id": "ee9636fb",
   "metadata": {},
   "outputs": [],
   "source": [
    "df['TravisFileURL'] = [link.split('.git')[0] + \"/blob/master/.travis.yml\" for link in df['GitHubURL']]"
   ]
  },
  {
   "cell_type": "code",
   "execution_count": 5,
   "id": "1baedb8a",
   "metadata": {},
   "outputs": [],
   "source": [
    "# df[\"TravisFileURL\"].tolist()"
   ]
  },
  {
   "cell_type": "code",
   "execution_count": 6,
   "id": "dfdbe287",
   "metadata": {},
   "outputs": [],
   "source": [
    "df.to_csv(\"yml_files_link.csv\", index=False)"
   ]
  },
  {
   "cell_type": "code",
   "execution_count": null,
   "id": "110391db",
   "metadata": {},
   "outputs": [],
   "source": []
  },
  {
   "cell_type": "code",
   "execution_count": null,
   "id": "2d1eb92b",
   "metadata": {},
   "outputs": [],
   "source": []
  }
 ],
 "metadata": {
  "kernelspec": {
   "display_name": "Python 3 (ipykernel)",
   "language": "python",
   "name": "python3"
  },
  "language_info": {
   "codemirror_mode": {
    "name": "ipython",
    "version": 3
   },
   "file_extension": ".py",
   "mimetype": "text/x-python",
   "name": "python",
   "nbconvert_exporter": "python",
   "pygments_lexer": "ipython3",
   "version": "3.10.4"
  }
 },
 "nbformat": 4,
 "nbformat_minor": 5
}
